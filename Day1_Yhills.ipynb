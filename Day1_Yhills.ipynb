{
 "cells": [
  {
   "cell_type": "code",
   "execution_count": 1,
   "id": "54c8e99c",
   "metadata": {},
   "outputs": [
    {
     "name": "stdout",
     "output_type": "stream",
     "text": [
      "hello world\n"
     ]
    }
   ],
   "source": [
    "print(\"hello world\")"
   ]
  },
  {
   "cell_type": "code",
   "execution_count": 2,
   "id": "b4168fe5",
   "metadata": {},
   "outputs": [
    {
     "name": "stdout",
     "output_type": "stream",
     "text": [
      "Prerana Patil\n"
     ]
    }
   ],
   "source": [
    "print(\"Prerana Patil\")"
   ]
  },
  {
   "cell_type": "code",
   "execution_count": 3,
   "id": "a9c36feb",
   "metadata": {},
   "outputs": [],
   "source": [
    "### It should be written as print not print"
   ]
  },
  {
   "cell_type": "markdown",
   "id": "b8298b70",
   "metadata": {},
   "source": [
    "### It should be written as print not print"
   ]
  },
  {
   "cell_type": "markdown",
   "id": "289b6334",
   "metadata": {},
   "source": [
    "#### It should be written as print not print"
   ]
  },
  {
   "cell_type": "markdown",
   "id": "1d256fdb",
   "metadata": {},
   "source": [
    "##### It should be written as print not print"
   ]
  },
  {
   "cell_type": "markdown",
   "id": "ef071637",
   "metadata": {},
   "source": [
    "## It should be written as print not print"
   ]
  },
  {
   "cell_type": "markdown",
   "id": "04afe677",
   "metadata": {},
   "source": [
    "# It should be written as print not print"
   ]
  },
  {
   "cell_type": "code",
   "execution_count": 4,
   "id": "a75b31da",
   "metadata": {},
   "outputs": [
    {
     "name": "stdout",
     "output_type": "stream",
     "text": [
      "Welcome to the Analytics course\n"
     ]
    }
   ],
   "source": [
    "print(\"Welcome to the Analytics course\")"
   ]
  },
  {
   "cell_type": "markdown",
   "id": "4edf86d1",
   "metadata": {},
   "source": [
    "### Data types"
   ]
  },
  {
   "cell_type": "code",
   "execution_count": 5,
   "id": "a43e9265",
   "metadata": {},
   "outputs": [
    {
     "name": "stdout",
     "output_type": "stream",
     "text": [
      "100\n"
     ]
    }
   ],
   "source": [
    "x=100\n",
    "print(x)"
   ]
  },
  {
   "cell_type": "code",
   "execution_count": 6,
   "id": "52ea828d",
   "metadata": {},
   "outputs": [
    {
     "data": {
      "text/plain": [
       "100"
      ]
     },
     "execution_count": 6,
     "metadata": {},
     "output_type": "execute_result"
    }
   ],
   "source": [
    "x=100\n",
    "x"
   ]
  },
  {
   "cell_type": "code",
   "execution_count": 7,
   "id": "2294bad0",
   "metadata": {},
   "outputs": [
    {
     "data": {
      "text/plain": [
       "int"
      ]
     },
     "execution_count": 7,
     "metadata": {},
     "output_type": "execute_result"
    }
   ],
   "source": [
    "type(x)"
   ]
  },
  {
   "cell_type": "code",
   "execution_count": 8,
   "id": "dcf515dd",
   "metadata": {},
   "outputs": [
    {
     "data": {
      "text/plain": [
       "float"
      ]
     },
     "execution_count": 8,
     "metadata": {},
     "output_type": "execute_result"
    }
   ],
   "source": [
    "g=112.76\n",
    "type(g)"
   ]
  },
  {
   "cell_type": "code",
   "execution_count": 9,
   "id": "68668594",
   "metadata": {},
   "outputs": [
    {
     "data": {
      "text/plain": [
       "str"
      ]
     },
     "execution_count": 9,
     "metadata": {},
     "output_type": "execute_result"
    }
   ],
   "source": [
    "course=\"analytics\"\n",
    "type(course)"
   ]
  },
  {
   "cell_type": "markdown",
   "id": "9392ca6b",
   "metadata": {},
   "source": [
    "#### string should be defined with single or double inverted comma"
   ]
  },
  {
   "cell_type": "code",
   "execution_count": 10,
   "id": "3a333484",
   "metadata": {},
   "outputs": [
    {
     "data": {
      "text/plain": [
       "bool"
      ]
     },
     "execution_count": 10,
     "metadata": {},
     "output_type": "execute_result"
    }
   ],
   "source": [
    "z=True\n",
    "type(z)"
   ]
  },
  {
   "cell_type": "code",
   "execution_count": 11,
   "id": "80c39441",
   "metadata": {},
   "outputs": [
    {
     "data": {
      "text/plain": [
       "bool"
      ]
     },
     "execution_count": 11,
     "metadata": {},
     "output_type": "execute_result"
    }
   ],
   "source": [
    "z=False\n",
    "type(z)"
   ]
  },
  {
   "cell_type": "code",
   "execution_count": 12,
   "id": "42f6cd54",
   "metadata": {},
   "outputs": [
    {
     "ename": "NameError",
     "evalue": "name 'true' is not defined",
     "output_type": "error",
     "traceback": [
      "\u001b[1;31m---------------------------------------------------------------------------\u001b[0m",
      "\u001b[1;31mNameError\u001b[0m                                 Traceback (most recent call last)",
      "\u001b[1;32m~\\AppData\\Local\\Temp/ipykernel_17552/4123811447.py\u001b[0m in \u001b[0;36m<module>\u001b[1;34m\u001b[0m\n\u001b[1;32m----> 1\u001b[1;33m \u001b[0mz\u001b[0m\u001b[1;33m=\u001b[0m\u001b[0mtrue\u001b[0m\u001b[1;33m\u001b[0m\u001b[1;33m\u001b[0m\u001b[0m\n\u001b[0m\u001b[0;32m      2\u001b[0m \u001b[0mtype\u001b[0m\u001b[1;33m(\u001b[0m\u001b[0mz\u001b[0m\u001b[1;33m)\u001b[0m\u001b[1;33m\u001b[0m\u001b[1;33m\u001b[0m\u001b[0m\n",
      "\u001b[1;31mNameError\u001b[0m: name 'true' is not defined"
     ]
    }
   ],
   "source": [
    "z=true\n",
    "type(z)"
   ]
  },
  {
   "cell_type": "markdown",
   "id": "02842a12",
   "metadata": {},
   "source": [
    "#### 1.No decimal point-Integer\n",
    "#### 2.Decimal Point- Float\n",
    "#### 3.Text-String(and it should be in inverted comma)\n",
    "#### 4.True/False-bool(T/F must be in uppercase)"
   ]
  },
  {
   "cell_type": "code",
   "execution_count": null,
   "id": "c0a167f5",
   "metadata": {},
   "outputs": [],
   "source": [
    "Rules for naming"
   ]
  },
  {
   "cell_type": "code",
   "execution_count": 13,
   "id": "31d80234",
   "metadata": {},
   "outputs": [
    {
     "data": {
      "text/plain": [
       "('latha', 'Abhinav')"
      ]
     },
     "execution_count": 13,
     "metadata": {},
     "output_type": "execute_result"
    }
   ],
   "source": [
    "name_list=\"latha\",\"Abhinav\"\n",
    "name_list"
   ]
  },
  {
   "cell_type": "code",
   "execution_count": 14,
   "id": "4e596fb8",
   "metadata": {},
   "outputs": [
    {
     "ename": "SyntaxError",
     "evalue": "invalid syntax (Temp/ipykernel_17552/1674142162.py, line 1)",
     "output_type": "error",
     "traceback": [
      "\u001b[1;36m  File \u001b[1;32m\"C:\\Users\\P\\AppData\\Local\\Temp/ipykernel_17552/1674142162.py\"\u001b[1;36m, line \u001b[1;32m1\u001b[0m\n\u001b[1;33m    4name_list=\"latha\",\"Abhinav\"\u001b[0m\n\u001b[1;37m     ^\u001b[0m\n\u001b[1;31mSyntaxError\u001b[0m\u001b[1;31m:\u001b[0m invalid syntax\n"
     ]
    }
   ],
   "source": [
    "4name_list=\"latha\",\"Abhinav\"\n",
    "4name_list"
   ]
  },
  {
   "cell_type": "code",
   "execution_count": 15,
   "id": "98c5fac1",
   "metadata": {},
   "outputs": [
    {
     "data": {
      "text/plain": [
       "('latha', 'Abhinav')"
      ]
     },
     "execution_count": 15,
     "metadata": {},
     "output_type": "execute_result"
    }
   ],
   "source": [
    "n4ame_list=\"latha\",\"Abhinav\"\n",
    "n4ame_list"
   ]
  },
  {
   "cell_type": "code",
   "execution_count": 16,
   "id": "c9d9caf1",
   "metadata": {},
   "outputs": [
    {
     "ename": "SyntaxError",
     "evalue": "invalid syntax (Temp/ipykernel_17552/3434640954.py, line 1)",
     "output_type": "error",
     "traceback": [
      "\u001b[1;36m  File \u001b[1;32m\"C:\\Users\\P\\AppData\\Local\\Temp/ipykernel_17552/3434640954.py\"\u001b[1;36m, line \u001b[1;32m1\u001b[0m\n\u001b[1;33m    n4ame list=\"latha\",\"Abhinav\"\u001b[0m\n\u001b[1;37m          ^\u001b[0m\n\u001b[1;31mSyntaxError\u001b[0m\u001b[1;31m:\u001b[0m invalid syntax\n"
     ]
    }
   ],
   "source": [
    "n4ame list=\"latha\",\"Abhinav\"\n",
    "n4ame list"
   ]
  },
  {
   "cell_type": "code",
   "execution_count": 17,
   "id": "31e1e6cd",
   "metadata": {},
   "outputs": [
    {
     "ename": "SyntaxError",
     "evalue": "cannot assign to operator (Temp/ipykernel_17552/1950283617.py, line 1)",
     "output_type": "error",
     "traceback": [
      "\u001b[1;36m  File \u001b[1;32m\"C:\\Users\\P\\AppData\\Local\\Temp/ipykernel_17552/1950283617.py\"\u001b[1;36m, line \u001b[1;32m1\u001b[0m\n\u001b[1;33m    n4ame+list=\"latha\",\"Abhinav\"\u001b[0m\n\u001b[1;37m    ^\u001b[0m\n\u001b[1;31mSyntaxError\u001b[0m\u001b[1;31m:\u001b[0m cannot assign to operator\n"
     ]
    }
   ],
   "source": [
    "n4ame+list=\"latha\",\"Abhinav\"\n",
    "n4ame+list"
   ]
  },
  {
   "cell_type": "code",
   "execution_count": 18,
   "id": "2cce9a65",
   "metadata": {},
   "outputs": [
    {
     "ename": "NameError",
     "evalue": "name 'N4ame_list' is not defined",
     "output_type": "error",
     "traceback": [
      "\u001b[1;31m---------------------------------------------------------------------------\u001b[0m",
      "\u001b[1;31mNameError\u001b[0m                                 Traceback (most recent call last)",
      "\u001b[1;32m~\\AppData\\Local\\Temp/ipykernel_17552/77578764.py\u001b[0m in \u001b[0;36m<module>\u001b[1;34m\u001b[0m\n\u001b[0;32m      1\u001b[0m \u001b[0mn4ame_list\u001b[0m\u001b[1;33m=\u001b[0m\u001b[1;34m\"latha\"\u001b[0m\u001b[1;33m,\u001b[0m\u001b[1;34m\"Abhinav\"\u001b[0m\u001b[1;33m\u001b[0m\u001b[1;33m\u001b[0m\u001b[0m\n\u001b[1;32m----> 2\u001b[1;33m \u001b[0mN4ame_list\u001b[0m\u001b[1;33m\u001b[0m\u001b[1;33m\u001b[0m\u001b[0m\n\u001b[0m",
      "\u001b[1;31mNameError\u001b[0m: name 'N4ame_list' is not defined"
     ]
    }
   ],
   "source": [
    "n4ame_list=\"latha\",\"Abhinav\"\n",
    "N4ame_list"
   ]
  },
  {
   "cell_type": "markdown",
   "id": "e7b95244",
   "metadata": {},
   "source": [
    "#### 1.Variable name should start with A-Z,a-z,or underscore(_)\n",
    "#### 2.Variable name should not start with a number\n",
    "#### 3.Space is not allowed while writing these variables\n",
    "#### 4.Only allowed spl char is underscore\n",
    "#### 5.Case sensitive"
   ]
  },
  {
   "cell_type": "code",
   "execution_count": null,
   "id": "dad11581",
   "metadata": {},
   "outputs": [],
   "source": []
  }
 ],
 "metadata": {
  "kernelspec": {
   "display_name": "Python 3 (ipykernel)",
   "language": "python",
   "name": "python3"
  },
  "language_info": {
   "codemirror_mode": {
    "name": "ipython",
    "version": 3
   },
   "file_extension": ".py",
   "mimetype": "text/x-python",
   "name": "python",
   "nbconvert_exporter": "python",
   "pygments_lexer": "ipython3",
   "version": "3.9.7"
  }
 },
 "nbformat": 4,
 "nbformat_minor": 5
}
